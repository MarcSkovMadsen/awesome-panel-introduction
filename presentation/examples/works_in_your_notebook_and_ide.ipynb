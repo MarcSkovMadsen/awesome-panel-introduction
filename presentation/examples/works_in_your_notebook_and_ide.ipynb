{
 "cells": [
  {
   "cell_type": "markdown",
   "id": "7d751203-e4d7-4a96-84dd-c01224b8211c",
   "metadata": {},
   "source": [
    "# Panel - Works in your Notebook and IDE"
   ]
  },
  {
   "cell_type": "code",
   "execution_count": null,
   "id": "f170263d",
   "metadata": {},
   "outputs": [],
   "source": [
    "import panel as pn\n",
    "import numpy as np\n",
    "\n",
    "from matplotlib.figure import Figure\n",
    "from matplotlib import cm\n",
    "from matplotlib.backends.backend_agg import FigureCanvas  # not needed for mpl >= 3.1\n",
    "import matplotlib.pyplot as plt\n",
    "\n",
    "pn.extension(sizing_mode=\"stretch_width\")"
   ]
  },
  {
   "cell_type": "code",
   "execution_count": null,
   "id": "56f54a1a",
   "metadata": {},
   "outputs": [],
   "source": [
    "COLOR_MAPS = {\n",
    "    \"Autumn\": cm.autumn,\n",
    "    'Spring': cm.spring,\n",
    "    'Summer': cm.summer,\n",
    "    'Winter': cm.winter,\n",
    "}\n",
    "\n",
    "def get_plot(cmap=\"Autumn\", theme=\"default\"):\n",
    "    plt.style.use(\"default\")\n",
    "    if theme==\"dark\":\n",
    "        plt.style.use(\"dark_background\")\n",
    "    Y, X = np.mgrid[-3:3:100j, -3:3:100j]\n",
    "    U = -1 - X**2 + Y\n",
    "    V = 1 + X - Y**2\n",
    "    speed = np.sqrt(U*U + V*V)\n",
    "\n",
    "    fig0 = Figure(figsize=(12, 6))\n",
    "    ax0 = fig0.subplots()\n",
    "    FigureCanvas(fig0)  # not needed for mpl >= 3.1\n",
    "\n",
    "    strm = ax0.streamplot(X, Y, U, V, color=U, linewidth=2, cmap=COLOR_MAPS[cmap])\n",
    "    fig0.colorbar(strm.lines)\n",
    "\n",
    "    return fig0\n",
    "\n",
    "\n",
    "select = pn.widgets.Select(name=\"Color Map\", options=list(COLOR_MAPS.keys()))\n",
    "get_plot=pn.bind(get_plot, cmap=select)\n",
    "\n",
    "component=pn.Column(\n",
    "    select,\n",
    "    pn.panel(get_plot, sizing_mode=\"stretch_both\", loading_indicator=True),\n",
    "    sizing_mode=\"stretch_both\"\n",
    ")\n",
    "component"
   ]
  },
  {
   "cell_type": "code",
   "execution_count": null,
   "id": "82477c64",
   "metadata": {},
   "outputs": [],
   "source": [
    "pn.template.FastListTemplate(\n",
    "    site=\"Panel\",\n",
    "    title=\"Works in your Notebook and IDE\",\n",
    "    main=[component],\n",
    ").servable();"
   ]
  }
 ],
 "metadata": {
  "kernelspec": {
   "display_name": "Python 3 (ipykernel)",
   "language": "python",
   "name": "python3"
  },
  "language_info": {
   "codemirror_mode": {
    "name": "ipython",
    "version": 3
   },
   "file_extension": ".py",
   "mimetype": "text/x-python",
   "name": "python",
   "nbconvert_exporter": "python",
   "pygments_lexer": "ipython3",
   "version": "3.7.4"
  }
 },
 "nbformat": 4,
 "nbformat_minor": 5
}
